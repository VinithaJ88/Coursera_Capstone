{
  "nbformat": 4,
  "nbformat_minor": 0,
  "metadata": {
    "colab": {
      "name": "CourseraCapstone.ipynb",
      "provenance": [],
      "authorship_tag": "ABX9TyNBAcUX6bXP/vzcbjWtzY8n",
      "include_colab_link": true
    },
    "kernelspec": {
      "name": "python3",
      "display_name": "Python 3"
    }
  },
  "cells": [
    {
      "cell_type": "markdown",
      "metadata": {
        "id": "view-in-github",
        "colab_type": "text"
      },
      "source": [
        "<a href=\"https://colab.research.google.com/github/VinithaJ88/Coursera_Capstone/blob/main/CourseraCapstone.ipynb\" target=\"_parent\"><img src=\"https://colab.research.google.com/assets/colab-badge.svg\" alt=\"Open In Colab\"/></a>"
      ]
    },
    {
      "cell_type": "code",
      "metadata": {
        "id": "PbV5xG2i0pgs"
      },
      "source": [
        ""
      ],
      "execution_count": 3,
      "outputs": []
    },
    {
      "cell_type": "markdown",
      "metadata": {
        "id": "JF88FSbZ1QnN"
      },
      "source": [
        "# This notebook will be used for the Coursera Project Capstone"
      ]
    },
    {
      "cell_type": "code",
      "metadata": {
        "colab": {
          "base_uri": "https://localhost:8080/"
        },
        "id": "udJe74UC0-Ss",
        "outputId": "56d01f14-f379-4039-81c1-e438b8a5f3b7"
      },
      "source": [
        "import numpy as np\r\n",
        "import pandas as pd\r\n",
        "print('Hello Coursera Project Capstone')"
      ],
      "execution_count": 5,
      "outputs": [
        {
          "output_type": "stream",
          "text": [
            "Hello Coursera Project Capstone\n"
          ],
          "name": "stdout"
        }
      ]
    }
  ]
}